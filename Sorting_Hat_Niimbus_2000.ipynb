{
  "cells": [
    {
      "cell_type": "code",
      "execution_count": null,
      "metadata": {
        "id": "ABHGcWcarwIc"
      },
      "outputs": [],
      "source": []
    },
    {
      "cell_type": "markdown",
      "metadata": {
        "id": "e0c49e85"
      },
      "source": [
        "# Task\n",
        "Analyze the provided dataset \"/content/sorting hat - Sheet1 (5).csv\" to build an AI system that sorts individuals into Hogwarts houses based on their personality, choices, and responses."
      ]
    },
    {
      "cell_type": "markdown",
      "metadata": {
        "id": "7d00029d"
      },
      "source": [
        "## Load the data\n",
        "\n",
        "### Subtask:\n",
        "Load the dataset into a pandas DataFrame.\n"
      ]
    },
    {
      "cell_type": "markdown",
      "metadata": {
        "id": "5980a9d0"
      },
      "source": [
        "**Reasoning**:\n",
        "Import the pandas library and load the dataset into a pandas DataFrame. Then, display the first 5 rows and the info of the DataFrame to understand its structure and data types.\n",
        "\n"
      ]
    },
    {
      "cell_type": "code",
      "execution_count": null,
      "metadata": {
        "colab": {
          "base_uri": "https://localhost:8080/",
          "height": 387
        },
        "id": "da2be7ab",
        "outputId": "d4ae4056-28bd-4eb6-d4d0-9e9034c236e3"
      },
      "outputs": [
        {
          "data": {
            "application/vnd.google.colaboratory.intrinsic+json": {
              "summary": "{\n  \"name\": \"display(df\",\n  \"rows\": 5,\n  \"fields\": [\n    {\n      \"column\": \"HOUSE\",\n      \"properties\": {\n        \"dtype\": \"string\",\n        \"num_unique_values\": 4,\n        \"samples\": [\n          \"gryffindor\",\n          \"slytherin\",\n          \"hufflepuff\"\n        ],\n        \"semantic_type\": \"\",\n        \"description\": \"\"\n      }\n    },\n    {\n      \"column\": \"WRITE A SENTENCE OR DESCRIPTION ABOUT YOURSELF\",\n      \"properties\": {\n        \"dtype\": \"string\",\n        \"num_unique_values\": 5,\n        \"samples\": [\n          \"I am honest and brave\",\n          \"My sister cried when I called her stupid, it's pathetic\",\n          \"I study hard and am very diligent in my work\"\n        ],\n        \"semantic_type\": \"\",\n        \"description\": \"\"\n      }\n    }\n  ]\n}",
              "type": "dataframe"
            },
            "text/html": [
              "\n",
              "  <div id=\"df-2e0fc02c-fb62-4b2f-ba15-8e96267b1cd1\" class=\"colab-df-container\">\n",
              "    <div>\n",
              "<style scoped>\n",
              "    .dataframe tbody tr th:only-of-type {\n",
              "        vertical-align: middle;\n",
              "    }\n",
              "\n",
              "    .dataframe tbody tr th {\n",
              "        vertical-align: top;\n",
              "    }\n",
              "\n",
              "    .dataframe thead th {\n",
              "        text-align: right;\n",
              "    }\n",
              "</style>\n",
              "<table border=\"1\" class=\"dataframe\">\n",
              "  <thead>\n",
              "    <tr style=\"text-align: right;\">\n",
              "      <th></th>\n",
              "      <th>HOUSE</th>\n",
              "      <th>WRITE A SENTENCE OR DESCRIPTION ABOUT YOURSELF</th>\n",
              "    </tr>\n",
              "  </thead>\n",
              "  <tbody>\n",
              "    <tr>\n",
              "      <th>0</th>\n",
              "      <td>hufflepuff</td>\n",
              "      <td>I like to ride bikes</td>\n",
              "    </tr>\n",
              "    <tr>\n",
              "      <th>1</th>\n",
              "      <td>gryffindor</td>\n",
              "      <td>I am honest and brave</td>\n",
              "    </tr>\n",
              "    <tr>\n",
              "      <th>2</th>\n",
              "      <td>ravenclaw</td>\n",
              "      <td>I study hard and am very diligent in my work</td>\n",
              "    </tr>\n",
              "    <tr>\n",
              "      <th>3</th>\n",
              "      <td>gryffindor</td>\n",
              "      <td>I faced my fears today</td>\n",
              "    </tr>\n",
              "    <tr>\n",
              "      <th>4</th>\n",
              "      <td>slytherin</td>\n",
              "      <td>My sister cried when I called her stupid, it's...</td>\n",
              "    </tr>\n",
              "  </tbody>\n",
              "</table>\n",
              "</div>\n",
              "    <div class=\"colab-df-buttons\">\n",
              "\n",
              "  <div class=\"colab-df-container\">\n",
              "    <button class=\"colab-df-convert\" onclick=\"convertToInteractive('df-2e0fc02c-fb62-4b2f-ba15-8e96267b1cd1')\"\n",
              "            title=\"Convert this dataframe to an interactive table.\"\n",
              "            style=\"display:none;\">\n",
              "\n",
              "  <svg xmlns=\"http://www.w3.org/2000/svg\" height=\"24px\" viewBox=\"0 -960 960 960\">\n",
              "    <path d=\"M120-120v-720h720v720H120Zm60-500h600v-160H180v160Zm220 220h160v-160H400v160Zm0 220h160v-160H400v160ZM180-400h160v-160H180v160Zm440 0h160v-160H620v160ZM180-180h160v-160H180v160Zm440 0h160v-160H620v160Z\"/>\n",
              "  </svg>\n",
              "    </button>\n",
              "\n",
              "  <style>\n",
              "    .colab-df-container {\n",
              "      display:flex;\n",
              "      gap: 12px;\n",
              "    }\n",
              "\n",
              "    .colab-df-convert {\n",
              "      background-color: #E8F0FE;\n",
              "      border: none;\n",
              "      border-radius: 50%;\n",
              "      cursor: pointer;\n",
              "      display: none;\n",
              "      fill: #1967D2;\n",
              "      height: 32px;\n",
              "      padding: 0 0 0 0;\n",
              "      width: 32px;\n",
              "    }\n",
              "\n",
              "    .colab-df-convert:hover {\n",
              "      background-color: #E2EBFA;\n",
              "      box-shadow: 0px 1px 2px rgba(60, 64, 67, 0.3), 0px 1px 3px 1px rgba(60, 64, 67, 0.15);\n",
              "      fill: #174EA6;\n",
              "    }\n",
              "\n",
              "    .colab-df-buttons div {\n",
              "      margin-bottom: 4px;\n",
              "    }\n",
              "\n",
              "    [theme=dark] .colab-df-convert {\n",
              "      background-color: #3B4455;\n",
              "      fill: #D2E3FC;\n",
              "    }\n",
              "\n",
              "    [theme=dark] .colab-df-convert:hover {\n",
              "      background-color: #434B5C;\n",
              "      box-shadow: 0px 1px 3px 1px rgba(0, 0, 0, 0.15);\n",
              "      filter: drop-shadow(0px 1px 2px rgba(0, 0, 0, 0.3));\n",
              "      fill: #FFFFFF;\n",
              "    }\n",
              "  </style>\n",
              "\n",
              "    <script>\n",
              "      const buttonEl =\n",
              "        document.querySelector('#df-2e0fc02c-fb62-4b2f-ba15-8e96267b1cd1 button.colab-df-convert');\n",
              "      buttonEl.style.display =\n",
              "        google.colab.kernel.accessAllowed ? 'block' : 'none';\n",
              "\n",
              "      async function convertToInteractive(key) {\n",
              "        const element = document.querySelector('#df-2e0fc02c-fb62-4b2f-ba15-8e96267b1cd1');\n",
              "        const dataTable =\n",
              "          await google.colab.kernel.invokeFunction('convertToInteractive',\n",
              "                                                    [key], {});\n",
              "        if (!dataTable) return;\n",
              "\n",
              "        const docLinkHtml = 'Like what you see? Visit the ' +\n",
              "          '<a target=\"_blank\" href=https://colab.research.google.com/notebooks/data_table.ipynb>data table notebook</a>'\n",
              "          + ' to learn more about interactive tables.';\n",
              "        element.innerHTML = '';\n",
              "        dataTable['output_type'] = 'display_data';\n",
              "        await google.colab.output.renderOutput(dataTable, element);\n",
              "        const docLink = document.createElement('div');\n",
              "        docLink.innerHTML = docLinkHtml;\n",
              "        element.appendChild(docLink);\n",
              "      }\n",
              "    </script>\n",
              "  </div>\n",
              "\n",
              "\n",
              "    <div id=\"df-ea7911fe-8357-4fec-ad66-267fec0caf1a\">\n",
              "      <button class=\"colab-df-quickchart\" onclick=\"quickchart('df-ea7911fe-8357-4fec-ad66-267fec0caf1a')\"\n",
              "                title=\"Suggest charts\"\n",
              "                style=\"display:none;\">\n",
              "\n",
              "<svg xmlns=\"http://www.w3.org/2000/svg\" height=\"24px\"viewBox=\"0 0 24 24\"\n",
              "     width=\"24px\">\n",
              "    <g>\n",
              "        <path d=\"M19 3H5c-1.1 0-2 .9-2 2v14c0 1.1.9 2 2 2h14c1.1 0 2-.9 2-2V5c0-1.1-.9-2-2-2zM9 17H7v-7h2v7zm4 0h-2V7h2v10zm4 0h-2v-4h2v4z\"/>\n",
              "    </g>\n",
              "</svg>\n",
              "      </button>\n",
              "\n",
              "<style>\n",
              "  .colab-df-quickchart {\n",
              "      --bg-color: #E8F0FE;\n",
              "      --fill-color: #1967D2;\n",
              "      --hover-bg-color: #E2EBFA;\n",
              "      --hover-fill-color: #174EA6;\n",
              "      --disabled-fill-color: #AAA;\n",
              "      --disabled-bg-color: #DDD;\n",
              "  }\n",
              "\n",
              "  [theme=dark] .colab-df-quickchart {\n",
              "      --bg-color: #3B4455;\n",
              "      --fill-color: #D2E3FC;\n",
              "      --hover-bg-color: #434B5C;\n",
              "      --hover-fill-color: #FFFFFF;\n",
              "      --disabled-bg-color: #3B4455;\n",
              "      --disabled-fill-color: #666;\n",
              "  }\n",
              "\n",
              "  .colab-df-quickchart {\n",
              "    background-color: var(--bg-color);\n",
              "    border: none;\n",
              "    border-radius: 50%;\n",
              "    cursor: pointer;\n",
              "    display: none;\n",
              "    fill: var(--fill-color);\n",
              "    height: 32px;\n",
              "    padding: 0;\n",
              "    width: 32px;\n",
              "  }\n",
              "\n",
              "  .colab-df-quickchart:hover {\n",
              "    background-color: var(--hover-bg-color);\n",
              "    box-shadow: 0 1px 2px rgba(60, 64, 67, 0.3), 0 1px 3px 1px rgba(60, 64, 67, 0.15);\n",
              "    fill: var(--button-hover-fill-color);\n",
              "  }\n",
              "\n",
              "  .colab-df-quickchart-complete:disabled,\n",
              "  .colab-df-quickchart-complete:disabled:hover {\n",
              "    background-color: var(--disabled-bg-color);\n",
              "    fill: var(--disabled-fill-color);\n",
              "    box-shadow: none;\n",
              "  }\n",
              "\n",
              "  .colab-df-spinner {\n",
              "    border: 2px solid var(--fill-color);\n",
              "    border-color: transparent;\n",
              "    border-bottom-color: var(--fill-color);\n",
              "    animation:\n",
              "      spin 1s steps(1) infinite;\n",
              "  }\n",
              "\n",
              "  @keyframes spin {\n",
              "    0% {\n",
              "      border-color: transparent;\n",
              "      border-bottom-color: var(--fill-color);\n",
              "      border-left-color: var(--fill-color);\n",
              "    }\n",
              "    20% {\n",
              "      border-color: transparent;\n",
              "      border-left-color: var(--fill-color);\n",
              "      border-top-color: var(--fill-color);\n",
              "    }\n",
              "    30% {\n",
              "      border-color: transparent;\n",
              "      border-left-color: var(--fill-color);\n",
              "      border-top-color: var(--fill-color);\n",
              "      border-right-color: var(--fill-color);\n",
              "    }\n",
              "    40% {\n",
              "      border-color: transparent;\n",
              "      border-right-color: var(--fill-color);\n",
              "      border-top-color: var(--fill-color);\n",
              "    }\n",
              "    60% {\n",
              "      border-color: transparent;\n",
              "      border-right-color: var(--fill-color);\n",
              "    }\n",
              "    80% {\n",
              "      border-color: transparent;\n",
              "      border-right-color: var(--fill-color);\n",
              "      border-bottom-color: var(--fill-color);\n",
              "    }\n",
              "    90% {\n",
              "      border-color: transparent;\n",
              "      border-bottom-color: var(--fill-color);\n",
              "    }\n",
              "  }\n",
              "</style>\n",
              "\n",
              "      <script>\n",
              "        async function quickchart(key) {\n",
              "          const quickchartButtonEl =\n",
              "            document.querySelector('#' + key + ' button');\n",
              "          quickchartButtonEl.disabled = true;  // To prevent multiple clicks.\n",
              "          quickchartButtonEl.classList.add('colab-df-spinner');\n",
              "          try {\n",
              "            const charts = await google.colab.kernel.invokeFunction(\n",
              "                'suggestCharts', [key], {});\n",
              "          } catch (error) {\n",
              "            console.error('Error during call to suggestCharts:', error);\n",
              "          }\n",
              "          quickchartButtonEl.classList.remove('colab-df-spinner');\n",
              "          quickchartButtonEl.classList.add('colab-df-quickchart-complete');\n",
              "        }\n",
              "        (() => {\n",
              "          let quickchartButtonEl =\n",
              "            document.querySelector('#df-ea7911fe-8357-4fec-ad66-267fec0caf1a button');\n",
              "          quickchartButtonEl.style.display =\n",
              "            google.colab.kernel.accessAllowed ? 'block' : 'none';\n",
              "        })();\n",
              "      </script>\n",
              "    </div>\n",
              "\n",
              "    </div>\n",
              "  </div>\n"
            ],
            "text/plain": [
              "        HOUSE     WRITE A SENTENCE OR DESCRIPTION ABOUT YOURSELF\n",
              "0  hufflepuff                               I like to ride bikes\n",
              "1  gryffindor                              I am honest and brave\n",
              "2   ravenclaw       I study hard and am very diligent in my work\n",
              "3  gryffindor                             I faced my fears today\n",
              "4   slytherin  My sister cried when I called her stupid, it's..."
            ]
          },
          "metadata": {},
          "output_type": "display_data"
        },
        {
          "name": "stdout",
          "output_type": "stream",
          "text": [
            "<class 'pandas.core.frame.DataFrame'>\n",
            "RangeIndex: 515 entries, 0 to 514\n",
            "Data columns (total 2 columns):\n",
            " #   Column                                          Non-Null Count  Dtype \n",
            "---  ------                                          --------------  ----- \n",
            " 0   HOUSE                                           515 non-null    object\n",
            " 1   WRITE A SENTENCE OR DESCRIPTION ABOUT YOURSELF  515 non-null    object\n",
            "dtypes: object(2)\n",
            "memory usage: 8.2+ KB\n"
          ]
        },
        {
          "data": {
            "text/plain": [
              "None"
            ]
          },
          "metadata": {},
          "output_type": "display_data"
        }
      ],
      "source": [
        "import pandas as pd\n",
        "\n",
        "df = pd.read_csv('/content/sorting hat - Sheet1 (5).csv')\n",
        "display(df.head())\n",
        "display(df.info())"
      ]
    },
    {
      "cell_type": "markdown",
      "metadata": {
        "id": "574c2573"
      },
      "source": [
        "## Explore and preprocess the data\n",
        "\n",
        "### Subtask:\n",
        "Analyze the data to understand its structure, identify relevant columns, and handle any missing values or inconsistencies.\n"
      ]
    },
    {
      "cell_type": "markdown",
      "metadata": {
        "id": "d10dd14c"
      },
      "source": [
        "**Reasoning**:\n",
        "Examine the unique values in the 'HOUSE' column, check for inconsistencies, analyze the text column for patterns and cleaning needs, and determine if there are any missing values.\n",
        "\n"
      ]
    },
    {
      "cell_type": "code",
      "execution_count": null,
      "metadata": {
        "colab": {
          "base_uri": "https://localhost:8080/",
          "height": 612
        },
        "id": "69f77b4b",
        "outputId": "8de2eeff-5bd0-412e-d9ec-3786ff22c220"
      },
      "outputs": [
        {
          "data": {
            "text/plain": [
              "array(['hufflepuff', 'gryffindor', 'ravenclaw', 'slytherin'], dtype=object)"
            ]
          },
          "metadata": {},
          "output_type": "display_data"
        },
        {
          "data": {
            "text/html": [
              "<div>\n",
              "<style scoped>\n",
              "    .dataframe tbody tr th:only-of-type {\n",
              "        vertical-align: middle;\n",
              "    }\n",
              "\n",
              "    .dataframe tbody tr th {\n",
              "        vertical-align: top;\n",
              "    }\n",
              "\n",
              "    .dataframe thead th {\n",
              "        text-align: right;\n",
              "    }\n",
              "</style>\n",
              "<table border=\"1\" class=\"dataframe\">\n",
              "  <thead>\n",
              "    <tr style=\"text-align: right;\">\n",
              "      <th></th>\n",
              "      <th>count</th>\n",
              "    </tr>\n",
              "    <tr>\n",
              "      <th>HOUSE</th>\n",
              "      <th></th>\n",
              "    </tr>\n",
              "  </thead>\n",
              "  <tbody>\n",
              "    <tr>\n",
              "      <th>gryffindor</th>\n",
              "      <td>148</td>\n",
              "    </tr>\n",
              "    <tr>\n",
              "      <th>slytherin</th>\n",
              "      <td>145</td>\n",
              "    </tr>\n",
              "    <tr>\n",
              "      <th>hufflepuff</th>\n",
              "      <td>114</td>\n",
              "    </tr>\n",
              "    <tr>\n",
              "      <th>ravenclaw</th>\n",
              "      <td>108</td>\n",
              "    </tr>\n",
              "  </tbody>\n",
              "</table>\n",
              "</div><br><label><b>dtype:</b> int64</label>"
            ],
            "text/plain": [
              "HOUSE\n",
              "gryffindor    148\n",
              "slytherin     145\n",
              "hufflepuff    114\n",
              "ravenclaw     108\n",
              "Name: count, dtype: int64"
            ]
          },
          "metadata": {},
          "output_type": "display_data"
        },
        {
          "data": {
            "text/html": [
              "<div>\n",
              "<style scoped>\n",
              "    .dataframe tbody tr th:only-of-type {\n",
              "        vertical-align: middle;\n",
              "    }\n",
              "\n",
              "    .dataframe tbody tr th {\n",
              "        vertical-align: top;\n",
              "    }\n",
              "\n",
              "    .dataframe thead th {\n",
              "        text-align: right;\n",
              "    }\n",
              "</style>\n",
              "<table border=\"1\" class=\"dataframe\">\n",
              "  <thead>\n",
              "    <tr style=\"text-align: right;\">\n",
              "      <th></th>\n",
              "      <th>WRITE A SENTENCE OR DESCRIPTION ABOUT YOURSELF</th>\n",
              "    </tr>\n",
              "  </thead>\n",
              "  <tbody>\n",
              "    <tr>\n",
              "      <th>0</th>\n",
              "      <td>I like to ride bikes</td>\n",
              "    </tr>\n",
              "    <tr>\n",
              "      <th>1</th>\n",
              "      <td>I am honest and brave</td>\n",
              "    </tr>\n",
              "    <tr>\n",
              "      <th>2</th>\n",
              "      <td>I study hard and am very diligent in my work</td>\n",
              "    </tr>\n",
              "    <tr>\n",
              "      <th>3</th>\n",
              "      <td>I faced my fears today</td>\n",
              "    </tr>\n",
              "    <tr>\n",
              "      <th>4</th>\n",
              "      <td>My sister cried when I called her stupid, it's...</td>\n",
              "    </tr>\n",
              "  </tbody>\n",
              "</table>\n",
              "</div><br><label><b>dtype:</b> object</label>"
            ],
            "text/plain": [
              "0                                 I like to ride bikes\n",
              "1                                I am honest and brave\n",
              "2         I study hard and am very diligent in my work\n",
              "3                               I faced my fears today\n",
              "4    My sister cried when I called her stupid, it's...\n",
              "Name: WRITE A SENTENCE OR DESCRIPTION ABOUT YOURSELF, dtype: object"
            ]
          },
          "metadata": {},
          "output_type": "display_data"
        },
        {
          "data": {
            "text/html": [
              "<div>\n",
              "<style scoped>\n",
              "    .dataframe tbody tr th:only-of-type {\n",
              "        vertical-align: middle;\n",
              "    }\n",
              "\n",
              "    .dataframe tbody tr th {\n",
              "        vertical-align: top;\n",
              "    }\n",
              "\n",
              "    .dataframe thead th {\n",
              "        text-align: right;\n",
              "    }\n",
              "</style>\n",
              "<table border=\"1\" class=\"dataframe\">\n",
              "  <thead>\n",
              "    <tr style=\"text-align: right;\">\n",
              "      <th></th>\n",
              "      <th>0</th>\n",
              "    </tr>\n",
              "  </thead>\n",
              "  <tbody>\n",
              "    <tr>\n",
              "      <th>HOUSE</th>\n",
              "      <td>0</td>\n",
              "    </tr>\n",
              "    <tr>\n",
              "      <th>WRITE A SENTENCE OR DESCRIPTION ABOUT YOURSELF</th>\n",
              "      <td>0</td>\n",
              "    </tr>\n",
              "  </tbody>\n",
              "</table>\n",
              "</div><br><label><b>dtype:</b> int64</label>"
            ],
            "text/plain": [
              "HOUSE                                             0\n",
              "WRITE A SENTENCE OR DESCRIPTION ABOUT YOURSELF    0\n",
              "dtype: int64"
            ]
          },
          "metadata": {},
          "output_type": "display_data"
        }
      ],
      "source": [
        "display(df['HOUSE'].unique())\n",
        "display(df['HOUSE'].value_counts())\n",
        "\n",
        "# Analyze the text data - just a quick look for now\n",
        "display(df['WRITE A SENTENCE OR DESCRIPTION ABOUT YOURSELF'].head())\n",
        "\n",
        "# Check for missing values\n",
        "display(df.isnull().sum())"
      ]
    },
    {
      "cell_type": "markdown",
      "metadata": {
        "id": "c1ce9080"
      },
      "source": [
        "**Reasoning**:\n",
        "Based on the initial analysis, the 'HOUSE' column has consistent values. The text column appears to contain free-form text requiring standard text cleaning. There are no missing values. The next step is to outline necessary preprocessing steps for the text data.\n",
        "\n"
      ]
    },
    {
      "cell_type": "code",
      "execution_count": null,
      "metadata": {
        "colab": {
          "base_uri": "https://localhost:8080/"
        },
        "id": "27f90395",
        "outputId": "365c6223-fe4e-4ec9-f2fc-efad066a2efd"
      },
      "outputs": [
        {
          "name": "stdout",
          "output_type": "stream",
          "text": [
            "Preprocessing steps for text data ('WRITE A SENTENCE OR DESCRIPTION ABOUT YOURSELF'):\n",
            "1. Convert text to lowercase.\n",
            "2. Remove punctuation.\n",
            "3. Consider removing common English stop words (optional, depending on model).\n",
            "4. Tokenization (splitting text into words).\n",
            "5. Lemmatization or Stemming (reducing words to their base or root form) (optional).\n"
          ]
        }
      ],
      "source": [
        "# Outline necessary preprocessing steps for the text data\n",
        "print(\"Preprocessing steps for text data ('WRITE A SENTENCE OR DESCRIPTION ABOUT YOURSELF'):\")\n",
        "print(\"1. Convert text to lowercase.\")\n",
        "print(\"2. Remove punctuation.\")\n",
        "print(\"3. Consider removing common English stop words (optional, depending on model).\")\n",
        "print(\"4. Tokenization (splitting text into words).\")\n",
        "print(\"5. Lemmatization or Stemming (reducing words to their base or root form) (optional).\")"
      ]
    },
    {
      "cell_type": "markdown",
      "metadata": {
        "id": "c9439e2f"
      },
      "source": [
        "## Feature engineering\n",
        "\n",
        "### Subtask:\n",
        "Extract relevant features from the text data using techniques like TF-IDF or word embeddings.\n"
      ]
    },
    {
      "cell_type": "markdown",
      "metadata": {
        "id": "cc020c06"
      },
      "source": [
        "**Reasoning**:\n",
        "Extract features from the text data using TF-IDF as instructed.\n",
        "\n"
      ]
    },
    {
      "cell_type": "code",
      "execution_count": null,
      "metadata": {
        "colab": {
          "base_uri": "https://localhost:8080/",
          "height": 35
        },
        "id": "538b9f2d",
        "outputId": "6c471c2b-5cd3-4e19-c03e-3bbb58f575a0"
      },
      "outputs": [
        {
          "data": {
            "text/plain": [
              "(515, 810)"
            ]
          },
          "metadata": {},
          "output_type": "display_data"
        }
      ],
      "source": [
        "from sklearn.feature_extraction.text import TfidfVectorizer\n",
        "\n",
        "vectorizer = TfidfVectorizer(stop_words='english', lowercase=True)\n",
        "X = vectorizer.fit_transform(df['WRITE A SENTENCE OR DESCRIPTION ABOUT YOURSELF'])\n",
        "\n",
        "display(X.shape)"
      ]
    },
    {
      "cell_type": "markdown",
      "metadata": {
        "id": "be0c39ca"
      },
      "source": [
        "## Choose and train a model\n",
        "\n",
        "### Subtask:\n",
        "Select a suitable machine learning model for classification (e.g., a sentiment analysis model or a personality prediction model) and train it on the prepared data.\n"
      ]
    },
    {
      "cell_type": "markdown",
      "metadata": {
        "id": "1fbf7868"
      },
      "source": [
        "**Reasoning**:\n",
        "Split the data into training and testing sets and then train a Logistic Regression model on the training data.\n",
        "\n"
      ]
    },
    {
      "cell_type": "code",
      "execution_count": null,
      "metadata": {
        "colab": {
          "base_uri": "https://localhost:8080/"
        },
        "id": "cf0d8738",
        "outputId": "ab64ee82-8cad-4961-ac34-d8db10e68409"
      },
      "outputs": [
        {
          "name": "stdout",
          "output_type": "stream",
          "text": [
            "Model training complete.\n"
          ]
        }
      ],
      "source": [
        "from sklearn.model_selection import train_test_split\n",
        "from sklearn.linear_model import LogisticRegression\n",
        "\n",
        "# Split the data\n",
        "X_train, X_test, y_train, y_test = train_test_split(X, df['HOUSE'], test_size=0.2, random_state=42)\n",
        "\n",
        "# Instantiate and train the model\n",
        "model = LogisticRegression()\n",
        "model.fit(X_train, y_train)\n",
        "\n",
        "print(\"Model training complete.\")"
      ]
    },
    {
      "cell_type": "markdown",
      "metadata": {
        "id": "e208a7e0"
      },
      "source": [
        "## Evaluate the model\n",
        "\n",
        "### Subtask:\n",
        "Assess the performance of the trained model using appropriate evaluation metrics.\n"
      ]
    },
    {
      "cell_type": "markdown",
      "metadata": {
        "id": "2a0271c5"
      },
      "source": [
        "**Reasoning**:\n",
        "Import the necessary evaluation metrics and calculate the accuracy, precision, recall, and F1-score using the trained model and the test data.\n",
        "\n"
      ]
    },
    {
      "cell_type": "code",
      "execution_count": null,
      "metadata": {
        "colab": {
          "base_uri": "https://localhost:8080/"
        },
        "id": "e2aaa735",
        "outputId": "8aceab27-2bf3-4fbd-c570-3d2c51ccf956"
      },
      "outputs": [
        {
          "name": "stdout",
          "output_type": "stream",
          "text": [
            "Accuracy: 0.8544\n",
            "Precision: 0.8617\n",
            "Recall: 0.8544\n",
            "F1-score: 0.8535\n"
          ]
        }
      ],
      "source": [
        "from sklearn.metrics import accuracy_score, precision_score, recall_score, f1_score\n",
        "\n",
        "y_pred = model.predict(X_test)\n",
        "\n",
        "accuracy = accuracy_score(y_test, y_pred)\n",
        "precision = precision_score(y_test, y_pred, average='weighted')\n",
        "recall = recall_score(y_test, y_pred, average='weighted')\n",
        "f1 = f1_score(y_test, y_pred, average='weighted')\n",
        "\n",
        "print(f\"Accuracy: {accuracy:.4f}\")\n",
        "print(f\"Precision: {precision:.4f}\")\n",
        "print(f\"Recall: {recall:.4f}\")\n",
        "print(f\"F1-score: {f1:.4f}\")"
      ]
    },
    {
      "cell_type": "markdown",
      "metadata": {
        "id": "9bb16742"
      },
      "source": [
        "## Implement the sorting system\n",
        "\n",
        "### Subtask:\n",
        "Create a function or class that takes new input (personality, choices, responses) and uses the trained model to predict the most suitable Hogwarts house.\n"
      ]
    },
    {
      "cell_type": "markdown",
      "metadata": {
        "id": "7a310e8e"
      },
      "source": [
        "**Reasoning**:\n",
        "Define a function that takes a string input, transforms it using the pre-trained vectorizer, and predicts the house using the pre-trained model.\n",
        "\n"
      ]
    },
    {
      "cell_type": "code",
      "execution_count": null,
      "metadata": {
        "id": "8f892e1f"
      },
      "outputs": [],
      "source": [
        "def predict_house(description):\n",
        "  \"\"\"\n",
        "  Predicts the Hogwarts house based on a personality description.\n",
        "\n",
        "  Args:\n",
        "    description: A string containing the personality description.\n",
        "\n",
        "  Returns:\n",
        "    The predicted Hogwarts house as a string.\n",
        "  \"\"\"\n",
        "  # Transform the input description using the trained vectorizer\n",
        "  description_vector = vectorizer.transform([description])\n",
        "\n",
        "  # Predict the house using the trained model\n",
        "  predicted_house = model.predict(description_vector)\n",
        "\n",
        "  return predicted_house[0]\n",
        "\n",
        "# Example usage (optional, for testing)\n",
        "# test_description = \"I value bravery and courage above all else.\"\n",
        "# predicted = predict_house(test_description)\n",
        "# print(f\"The predicted house is: {predicted}\")"
      ]
    },
    {
      "cell_type": "markdown",
      "metadata": {
        "id": "f2180082"
      },
      "source": [
        "## Summary:\n",
        "\n",
        "### Data Analysis Key Findings\n",
        "\n",
        "*   The dataset contains 515 entries with two columns: 'HOUSE' and 'WRITE A SENTENCE OR DESCRIPTION ABOUT YOURSELF'.\n",
        "*   There are no missing values in the dataset.\n",
        "*   The 'HOUSE' column contains four unique values: 'hufflepuff', 'gryffindor', 'ravenclaw', and 'slytherin'.\n",
        "*   The text data in the 'WRITE A SENTENCE OR DESCRIPTION ABOUT YOURSELF' column was transformed into a numerical representation using TF-IDF, resulting in 810 unique features.\n",
        "*   A Logistic Regression model was trained on 80% of the data and achieved an accuracy of approximately 85.44% on the remaining 20% test data.\n",
        "*   The weighted precision, recall, and F1-score of the model were approximately 86.17%, 85.44%, and 85.35%, respectively.\n",
        "\n",
        "### Insights or Next Steps\n",
        "\n",
        "*   The trained model demonstrates a reasonable ability to predict Hogwarts houses based on the provided descriptions.\n",
        "*   Further model performance could be explored by trying different classification algorithms or refining the text preprocessing and feature engineering steps.\n"
      ]
    },
    {
      "cell_type": "markdown",
      "metadata": {
        "id": "11f684ba"
      },
      "source": [
        "# Task\n",
        "Create a user input chatbot with a quiz based on the provided dataset \"/content/sorting hat - Sheet1 (5).csv\" to predict a Hogwarts house."
      ]
    },
    {
      "cell_type": "markdown",
      "metadata": {
        "id": "90dee559"
      },
      "source": [
        "## Create a function to ask quiz questions\n",
        "\n",
        "### Subtask:\n",
        "Define a function that presents questions to the user and collects their responses.\n"
      ]
    },
    {
      "cell_type": "markdown",
      "metadata": {
        "id": "0bb5bfc3"
      },
      "source": [
        "**Reasoning**:\n",
        "Define the `ask_quiz_questions` function as described in the instructions to collect user responses to a list of questions.\n",
        "\n"
      ]
    },
    {
      "cell_type": "code",
      "execution_count": null,
      "metadata": {
        "id": "c8a120ab"
      },
      "outputs": [],
      "source": [
        "def ask_quiz_questions(questions):\n",
        "  \"\"\"\n",
        "  Presents questions to the user and collects their responses.\n",
        "\n",
        "  Args:\n",
        "    questions: A list of strings, where each string is a question.\n",
        "\n",
        "  Returns:\n",
        "    A list of strings, where each string is the user's response to a question.\n",
        "  \"\"\"\n",
        "  responses = []\n",
        "  for question in questions:\n",
        "    response = input(question + \"\\n\")\n",
        "    responses.append(response)\n",
        "  return responses"
      ]
    },
    {
      "cell_type": "markdown",
      "metadata": {
        "id": "6adb5ea2"
      },
      "source": [
        "## Process user responses\n",
        "\n",
        "### Subtask:\n",
        "Process the collected user responses to create a single text input for the prediction model.\n"
      ]
    },
    {
      "cell_type": "markdown",
      "metadata": {
        "id": "eb770912"
      },
      "source": [
        "**Reasoning**:\n",
        "Define the `process_responses` function as instructed to concatenate the list of user responses into a single string.\n",
        "\n"
      ]
    },
    {
      "cell_type": "code",
      "execution_count": null,
      "metadata": {
        "id": "4b0c582a"
      },
      "outputs": [],
      "source": [
        "def process_responses(responses):\n",
        "  \"\"\"\n",
        "  Processes a list of user responses into a single text input for prediction.\n",
        "\n",
        "  Args:\n",
        "    responses: A list of strings, where each string is a user response.\n",
        "\n",
        "  Returns:\n",
        "    A single string containing all responses concatenated with spaces.\n",
        "  \"\"\"\n",
        "  return \" \".join(responses)"
      ]
    },
    {
      "cell_type": "markdown",
      "metadata": {
        "id": "f59e700a"
      },
      "source": [
        "## Integrate with the prediction model\n",
        "\n",
        "### Subtask:\n",
        "Use the `predict_house` function (already defined) to predict the house based on the processed user input.\n"
      ]
    },
    {
      "cell_type": "markdown",
      "metadata": {
        "id": "299384c1"
      },
      "source": [
        "**Reasoning**:\n",
        "Use the defined `predict_house` function with the processed user input to get the house prediction.\n",
        "\n"
      ]
    },
    {
      "cell_type": "code",
      "execution_count": null,
      "metadata": {
        "colab": {
          "base_uri": "https://localhost:8080/"
        },
        "id": "b5c7861d",
        "outputId": "f2a0e1fc-f53e-46c0-e76b-e81e658c68e1"
      },
      "outputs": [
        {
          "name": "stdout",
          "output_type": "stream",
          "text": [
            "Based on your responses, your predicted house is: gryffindor\n"
          ]
        }
      ],
      "source": [
        "# Assuming 'processed_response' is the variable holding the processed user input string\n",
        "# For demonstration purposes, let's create a dummy processed_response\n",
        "processed_response = \"I am brave and loyal\"\n",
        "\n",
        "predicted_house = predict_house(processed_response)\n",
        "print(f\"Based on your responses, your predicted house is: {predicted_house}\")"
      ]
    },
    {
      "cell_type": "markdown",
      "metadata": {
        "id": "1456ca27"
      },
      "source": [
        "## Create the chatbot interface\n",
        "\n",
        "### Subtask:\n",
        "Implement a loop that guides the user through the quiz and displays the predicted house.\n"
      ]
    },
    {
      "cell_type": "markdown",
      "metadata": {
        "id": "eec4bb84"
      },
      "source": [
        "**Reasoning**:\n",
        "Implement a loop to guide the user through the quiz, collect responses, process them, predict the house, and display the result, with an option to exit.\n",
        "\n"
      ]
    },
    {
      "cell_type": "code",
      "execution_count": null,
      "metadata": {
        "colab": {
          "base_uri": "https://localhost:8080/"
        },
        "id": "ba308017",
        "outputId": "8ffca305-2ebb-410e-82cb-06ba16a73680"
      },
      "outputs": [
        {
          "name": "stdout",
          "output_type": "stream",
          "text": [
            "Welcome to the Hogwarts Sorting Quiz!\n",
            "Describe a situation where you had to make a difficult choice.\n",
            "I attended college during a mass bunk\n",
            "What quality do you value most in yourself?\n",
            "Standing up against wrong actions\n",
            "How do you react under pressure?\n",
            "I keep myself calm\n",
            "What is your greatest ambition?\n",
            "Become a great human being\n",
            "If you found a lost item, what would you do?\n",
            "Keep it with myself till someone asks for it\n",
            "\n",
            "Based on your responses, your predicted house is: hufflepuff\n",
            "Would you like to take the quiz again? (yes/no): no\n",
            "Thank you for taking the quiz!\n"
          ]
        }
      ],
      "source": [
        "def run_quiz():\n",
        "  \"\"\"Runs the interactive Hogwarts sorting quiz.\"\"\"\n",
        "  questions = [\n",
        "      \"Describe a situation where you had to make a difficult choice.\",\n",
        "      \"What quality do you value most in yourself?\",\n",
        "      \"How do you react under pressure?\",\n",
        "      \"What is your greatest ambition?\",\n",
        "      \"If you found a lost item, what would you do?\"\n",
        "  ]\n",
        "\n",
        "  print(\"Welcome to the Hogwarts Sorting Quiz!\")\n",
        "\n",
        "  while True:\n",
        "    user_responses = ask_quiz_questions(questions)\n",
        "    processed_responses = process_responses(user_responses)\n",
        "    predicted_house = predict_house(processed_responses)\n",
        "\n",
        "    print(f\"\\nBased on your responses, your predicted house is: {predicted_house}\")\n",
        "\n",
        "    play_again = input(\"Would you like to take the quiz again? (yes/no): \").lower()\n",
        "    if play_again != 'yes':\n",
        "      print(\"Thank you for taking the quiz!\")\n",
        "      break\n",
        "\n",
        "run_quiz()"
      ]
    },
    {
      "cell_type": "markdown",
      "metadata": {
        "id": "9cbd9d2d"
      },
      "source": [
        "## Summary:\n",
        "\n",
        "### Data Analysis Key Findings\n",
        "\n",
        "*   The `ask_quiz_questions` function successfully prompts the user for input based on a list of questions and stores the responses.\n",
        "*   The `process_responses` function effectively concatenates a list of user responses into a single string separated by spaces, suitable for model input.\n",
        "*   A pre-defined `predict_house` function is utilized to predict a Hogwarts house based on the processed user input string.\n",
        "*   A loop is implemented to guide the user through the quiz, presenting questions, processing responses, predicting the house, and offering to repeat the quiz.\n",
        "\n",
        "### Insights or Next Steps\n",
        "\n",
        "*   The current implementation assumes the `predict_house` function is readily available. A crucial next step is to define and train this function using the provided dataset to enable actual house prediction.\n",
        "*   Consider adding input validation within `ask_quiz_questions` to handle unexpected user inputs gracefully and potentially guide the user towards providing more suitable responses.\n"
      ]
    }
  ],
  "metadata": {
    "colab": {
      "provenance": [],
      "toc_visible": true
    },
    "kernelspec": {
      "display_name": "Python 3",
      "name": "python3"
    },
    "language_info": {
      "name": "python"
    }
  },
  "nbformat": 4,
  "nbformat_minor": 0
}
